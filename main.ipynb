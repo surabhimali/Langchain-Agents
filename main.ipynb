{
 "cells": [
  {
   "cell_type": "markdown",
   "metadata": {
    "height": 30
   },
   "source": [
    "# Agents - Websites, Google Search, Wiki"
   ]
  },
  {
   "cell_type": "code",
   "execution_count": 22,
   "metadata": {
    "height": 166
   },
   "outputs": [],
   "source": [
    "import os\n",
    "import openai\n",
    "import sys\n",
    "sys.path.append('../..')\n",
    "\n",
    "from dotenv import load_dotenv, find_dotenv\n",
    "_ = load_dotenv(find_dotenv()) # read local .env file\n",
    "\n",
    "openai.api_key  = os.environ['OPENAI_API_KEY']"
   ]
  },
  {
   "cell_type": "code",
   "execution_count": 23,
   "metadata": {
    "height": 41
   },
   "outputs": [],
   "source": [
    "#pip install langchain-openai langchain-community wikipedia arxiv langchainhub google-api-python-client faiss-cpu"
   ]
  },
  {
   "cell_type": "markdown",
   "metadata": {
    "height": 30
   },
   "source": [
    "## Tools \n"
   ]
  },
  {
   "cell_type": "code",
   "execution_count": 24,
   "metadata": {
    "height": 149
   },
   "outputs": [
    {
     "data": {
      "text/plain": [
       "'wikipedia'"
      ]
     },
     "execution_count": 24,
     "metadata": {},
     "output_type": "execute_result"
    }
   ],
   "source": [
    "#Wikipedia tool - Inbuilt tool created by Langchain community\n",
    "from langchain_community.tools import WikipediaQueryRun\n",
    "from langchain_community.utilities import WikipediaAPIWrapper\n",
    "\n",
    "api_wrapper = WikipediaAPIWrapper(top_k_results=1,doc_content_chars_max=200)\n",
    "wiki_tool = WikipediaQueryRun(api_wrapper=api_wrapper)\n",
    "\n",
    "wiki_tool.name"
   ]
  },
  {
   "cell_type": "markdown",
   "metadata": {},
   "source": [
    "Default tools from Langchain also include Google Search - here are the steps to follow to integrate it\n",
    "https://python.langchain.com/v0.2/docs/integrations/tools/google_search/"
   ]
  },
  {
   "cell_type": "code",
   "execution_count": 25,
   "metadata": {
    "height": 132
   },
   "outputs": [],
   "source": [
    "import os\n",
    "from dotenv import load_dotenv\n",
    "load_dotenv()\n",
    "\n",
    "os.environ['GOOGLE_API_KEY'] = \"your-google-api-key\"\n",
    "\n",
    "os.environ['GOOGLE_CSE_ID'] = \"your-cse-id\""
   ]
  },
  {
   "cell_type": "code",
   "execution_count": 26,
   "metadata": {
    "height": 217
   },
   "outputs": [
    {
     "data": {
      "text/plain": [
       "'google_search'"
      ]
     },
     "execution_count": 26,
     "metadata": {},
     "output_type": "execute_result"
    }
   ],
   "source": [
    "from langchain_community.utilities import GoogleSearchAPIWrapper\n",
    "from langchain_core.tools import Tool\n",
    "\n",
    "search = GoogleSearchAPIWrapper()\n",
    "\n",
    "search_tool = Tool(\n",
    "    name=\"google_search\",\n",
    "    description=\"Search Google for recent results.\",\n",
    "    func=search.run,\n",
    ")\n",
    "\n",
    "search_tool.name"
   ]
  },
  {
   "cell_type": "code",
   "execution_count": 27,
   "metadata": {
    "height": 30
   },
   "outputs": [
    {
     "data": {
      "text/plain": [
       "\"1 Child's First Name. (Type or print). BARACK. CERTIFICATE OF LIVE BIRTH lb ... OBAMA, II. Day. 4. 6b. Island. Year. 5b. Hour. 1961 7:24 P.M.. Oahu. 6d. Is Place\\xa0... As a member of the Democratic Party, he was the first African-American president in United States history. Obama previously served as a U.S. senator\\xa0... Apr 2, 2018 ... BARACK : Barkat and Mubarak both are derived from it in Hindi and Urdu. Roughly meaning blessing, abundance etc. Husen or Hussein from which\\xa0... Apr 7, 2021 ... No, Obama is secretly his last name, his first name is obviously Joe, though. Joe Obama. Joebama. First Lady Michelle LaVaughn Robinson Obama is a lawyer, writer, and the wife of the 44th President, Barack Obama. She is the first African-American First\\xa0... Log in. Open app. barackobama's profile picture. See full profile in the app. Enjoy photos, videos and more from barackobama. Open the Instagram app. Not now. A museum that asks you to believe—not just in President Obama's power to create change, but in your own. ... (All fields required.) First Name. First Name. Last\\xa0... Michelle Robinson Obama was born in DeYoung, Illinois, on January 17, 1964, to parents Frasier Robinson III and Marian Shields. She grew up in Chicago's\\xa0... Follow the Girls Opportunity Alliance to help adolescent girls and the grassroots leaders working to support them. (All fields required.) First Name. Barack Hussein Obama II was born August 4, 1961, in Honolulu, Hawaii, to parents Barack H. Obama, Sr., and Stanley Ann Dunham. His parents divorced when he\\xa0...\""
      ]
     },
     "execution_count": 27,
     "metadata": {},
     "output_type": "execute_result"
    }
   ],
   "source": [
    "search_tool.run(\"Obama's first name?\")"
   ]
  },
  {
   "cell_type": "code",
   "execution_count": 28,
   "metadata": {
    "height": 251
   },
   "outputs": [
    {
     "data": {
      "text/plain": [
       "VectorStoreRetriever(tags=['FAISS', 'OpenAIEmbeddings'], vectorstore=<langchain_community.vectorstores.faiss.FAISS object at 0x7feb5d1c3b20>)"
      ]
     },
     "execution_count": 28,
     "metadata": {},
     "output_type": "execute_result"
    }
   ],
   "source": [
    "#Web based retriever\n",
    "\n",
    "from langchain_community.document_loaders import WebBaseLoader\n",
    "from langchain_community.vectorstores import FAISS\n",
    "from langchain_openai import OpenAIEmbeddings\n",
    "from langchain_text_splitters import RecursiveCharacterTextSplitter\n",
    "\n",
    "loader = WebBaseLoader([\"https://python.langchain.com/v0.1/docs\",\"https://attack.mitre.org/groups\", \"https://attack.mitre.org/techniques/enterprise/\", \"https://attack.mitre.org/tactics/enterprise/\"])\n",
    "docs = loader.load()\n",
    "documents = RecursiveCharacterTextSplitter(chunk_size=1000, chunk_overlap=200).split_documents(docs)\n",
    "vectordb = FAISS.from_documents(documents, OpenAIEmbeddings())\n",
    "web_retriever = vectordb.as_retriever()\n",
    "web_retriever"
   ]
  },
  {
   "cell_type": "code",
   "execution_count": 29,
   "metadata": {
    "height": 98
   },
   "outputs": [],
   "source": [
    "#Custom tool \n",
    "from langchain.tools.retriever import create_retriever_tool\n",
    "web_retriever_tool = create_retriever_tool(web_retriever, \"mitre_search\", \n",
    "                      \"Search for information about a MITRE ATT&CK technique. For any question about mitre-framework techniques, you must use this tool.\")"
   ]
  },
  {
   "cell_type": "code",
   "execution_count": 30,
   "metadata": {
    "height": 30
   },
   "outputs": [
    {
     "data": {
      "text/plain": [
       "'mitre_search'"
      ]
     },
     "execution_count": 30,
     "metadata": {},
     "output_type": "execute_result"
    }
   ],
   "source": [
    "web_retriever_tool.name"
   ]
  },
  {
   "cell_type": "code",
   "execution_count": 31,
   "metadata": {
    "height": 30
   },
   "outputs": [
    {
     "data": {
      "text/plain": [
       "\"Introduction | 🦜️🔗 LangChain\\n\\nSkip to main contentLangChain v0.2 is out! You are currently viewing the old v0.1 docs. View the latest docs here.ComponentsIntegrationsGuidesAPI ReferenceMorePeopleVersioningContributingTemplatesCookbooksTutorialsYouTubev0.1v0.2v0.1🦜️🔗LangSmithLangSmith DocsLangServe GitHubTemplates GitHubTemplates HubLangChain HubJS/TS Docs💬SearchGet startedIntroductionQuickstartInstallationUse casesQ&A with RAGExtracting structured outputChatbotsTool use and agentsQuery analysisQ&A over SQL + CSVMoreExpression LanguageGet startedRunnable interfacePrimitivesAdvantages of LCELStreamingAdd message history (memory)MoreEcosystem🦜🛠️ LangSmith🦜🕸️ LangGraph🦜️🏓 LangServeSecurityGet startedOn this pageIntroductionLangChain is a framework for developing applications powered by large language models (LLMs).LangChain simplifies every stage of the LLM application lifecycle:Development: Build your applications using LangChain's open-source building blocks and components. Hit the ground running using third-party\\n\\nChains, agents, and retrieval strategies that make up an application's cognitive architecture.langgraph: Build robust and stateful multi-actor applications with LLMs by modeling steps as edges and nodes in a graph.langserve: Deploy LangChain chains as REST APIs.The broader ecosystem includes:LangSmith: A developer platform that lets you debug, test, evaluate, and monitor LLM applications and seamlessly integrates with LangChain.Get started\\u200bWe recommend following our Quickstart guide to familiarize yourself with the framework by building your first LangChain application.See here for instructions on how to install LangChain, set up your environment, and start building.noteThese docs focus on the Python LangChain library. Head here for docs on the JavaScript LangChain library.Use cases\\u200bIf you're looking to build something specific or are more of a hands-on learner, check out our use-cases.\\n\\napplications with LLMs, built on top of (and intended to be used with) LangChain primitives.🦜🏓 LangServe\\u200bDeploy LangChain runnables and chains as REST APIs.Security\\u200bRead up on our Security best practices to make sure you're developing safely with LangChain.Additional resources\\u200bComponents\\u200bLangChain provides standard, extendable interfaces and integrations for many different components, including:Integrations\\u200bLangChain is part of a rich ecosystem of tools that integrate with our framework and build on top of it. Check out our growing list of integrations.Guides\\u200bBest practices for developing with LangChain.API reference\\u200bHead to the reference section for full documentation of all classes and methods in the LangChain and LangChain Experimental Python packages.Contributing\\u200bCheck out the developer's guide for guidelines on contributing and help getting your dev environment set up.Help us out by providing feedback on this documentation page:NextIntroductionGet startedUse casesExpression\""
      ]
     },
     "execution_count": 31,
     "metadata": {},
     "output_type": "execute_result"
    }
   ],
   "source": [
    "web_retriever_tool.run(\"what is langchain\")"
   ]
  },
  {
   "cell_type": "code",
   "execution_count": 32,
   "metadata": {
    "height": 149
   },
   "outputs": [],
   "source": [
    "# ## Arxiv tool - Inbuilt tool created by Langchain community\n",
    "# from langchain_community.utilities import ArxivAPIWrapper\n",
    "# from langchain_community.tools import ArxivQueryRun\n",
    "\n",
    "# arxiv_wrapper = ArxivAPIWrapper(top_k_results=1, doc_content_chars_max=200)\n",
    "# arxiv_tool = ArxivQueryRun(api_wrapper=arxiv_wrapper)\n",
    "# arxiv_tool.name\n",
    "\n",
    "from langchain_community.utilities import ArxivAPIWrapper\n",
    "arxiv_tool = ArxivAPIWrapper()\n",
    "# docs = arxiv.run(\"1605.08386\")\n",
    "# docs"
   ]
  },
  {
   "cell_type": "code",
   "execution_count": 33,
   "metadata": {
    "height": 183
   },
   "outputs": [
    {
     "data": {
      "text/plain": [
       "'Published: 2016-05-26\\nTitle: Heat-bath random walks with Markov bases\\nAuthors: Caprice Stanley, Tobias Windisch\\nSummary: Graphs on lattice points are studied whose edges come from a finite set of\\nallowed moves of arbitrary length. We show that the diameter of these graphs on\\nfibers of a fixed integer matrix can be bounded from above by a constant. We\\nthen study the mixing behaviour of heat-bath random walks on these graphs. We\\nalso state explicit conditions on the set of moves so that the heat-bath random\\nwalk, a generalization of the Glauber dynamics, is an expander in fixed\\ndimension.'"
      ]
     },
     "execution_count": 33,
     "metadata": {},
     "output_type": "execute_result"
    }
   ],
   "source": [
    "## Arxiv tool - Inbuilt tool created by Langchain community\n",
    "from langchain_community.utilities import ArxivAPIWrapper\n",
    "from langchain_community.tools import ArxivQueryRun\n",
    "\n",
    "arxiv_wrapper = ArxivAPIWrapper(top_k_results=1, doc_content_chars_max=1000)\n",
    "arxiv_tool = ArxivQueryRun(api_wrapper=arxiv_wrapper)\n",
    "arxiv_tool.name\n",
    "\n",
    "docs = arxiv_tool.run(\"1605.08386\")\n",
    "docs"
   ]
  },
  {
   "cell_type": "code",
   "execution_count": 34,
   "metadata": {
    "height": 30
   },
   "outputs": [],
   "source": [
    "tools = [web_retriever_tool, arxiv_tool, search_tool] #can add search_tool, wiki_tool if needed, "
   ]
  },
  {
   "cell_type": "code",
   "execution_count": 36,
   "metadata": {
    "height": 149
   },
   "outputs": [],
   "source": [
    "import os\n",
    "from dotenv import load_dotenv\n",
    "from langchain_openai import ChatOpenAI\n",
    "\n",
    "load_dotenv()\n",
    "os.environ[\"OPENAI_API_KEY\"] = os.getenv(\"OPENAI_API_KEY\")\n",
    "\n",
    "llm = ChatOpenAI(model='gpt-3.5-turbo-0613', temperature=0)"
   ]
  },
  {
   "cell_type": "code",
   "execution_count": 37,
   "metadata": {
    "height": 132
   },
   "outputs": [
    {
     "data": {
      "text/plain": [
       "[SystemMessagePromptTemplate(prompt=PromptTemplate(input_variables=[], template='You are a helpful assistant')),\n",
       " MessagesPlaceholder(variable_name='chat_history', optional=True),\n",
       " HumanMessagePromptTemplate(prompt=PromptTemplate(input_variables=['input'], template='{input}')),\n",
       " MessagesPlaceholder(variable_name='agent_scratchpad')]"
      ]
     },
     "execution_count": 37,
     "metadata": {},
     "output_type": "execute_result"
    }
   ],
   "source": [
    "#Hub - Its a community hub for explore and contribute prompts\n",
    "\n",
    "from langchain import hub\n",
    "\n",
    "#Get the prompt to use - you can modify this!\n",
    "prompt = hub.pull(\"hwchase17/openai-functions-agent\")\n",
    "prompt.messages"
   ]
  },
  {
   "cell_type": "markdown",
   "metadata": {},
   "source": [
    "#### Agents\n",
    "\n",
    "'''\n",
    "The core idea of agents is to use a language model to choose a sequence of actions to take. In chains, a sequence of actions is hardcoded (in code). In agents, a language model is used as a reasoning engine to determine which actions to take and in which order.\n",
    "'''"
   ]
  },
  {
   "cell_type": "code",
   "execution_count": 38,
   "metadata": {
    "height": 64
   },
   "outputs": [],
   "source": [
    "#Agents\n",
    "from langchain.agents import create_openai_tools_agent\n",
    "agent = create_openai_tools_agent(llm, tools, prompt)"
   ]
  },
  {
   "cell_type": "code",
   "execution_count": 40,
   "metadata": {
    "height": 127
   },
   "outputs": [
    {
     "name": "stdout",
     "output_type": "stream",
     "text": [
      "\n",
      "\n",
      "\u001b[1m> Entering new AgentExecutor chain...\u001b[0m\n",
      "\u001b[32;1m\u001b[1;3m\n",
      "Invoking: `mitre_search` with `{'query': 'tactics'}`\n",
      "\n",
      "\n",
      "\u001b[0m\u001b[36;1m\u001b[1;3mHome\n",
      "Tactics\n",
      "Enterprise\n",
      "\n",
      "\n",
      "\n",
      "\n",
      "\n",
      "\n",
      "\n",
      "\n",
      "\n",
      "\n",
      " \n",
      "                                        Enterprise tactics\n",
      "                                \n",
      "\n",
      "                                    Tactics represent the \"why\" of an ATT&CK technique or sub-technique. It is the adversary's tactical goal: the reason for performing an action. For example, an adversary may want to achieve credential access.\n",
      "                                \n",
      "\n",
      "\n",
      "Enterprise Tactics: 14\n",
      "\n",
      "\n",
      "\n",
      "\n",
      "\n",
      "\n",
      "\n",
      "\n",
      "ID\n",
      "Name\n",
      "Description\n",
      "\n",
      "\n",
      "\n",
      "\n",
      "\n",
      "TA0043\n",
      "\n",
      "\n",
      "Reconnaissance\n",
      "\n",
      "\n",
      "                                                    The adversary is trying to gather information they can use to plan future operations.\n",
      "\n",
      "                                        \n",
      "\n",
      "\n",
      "\n",
      "TA0042\n",
      "\n",
      "\n",
      "Resource Development\n",
      "\n",
      "\n",
      "                                                    The adversary is trying to establish resources they can use to support operations.\n",
      "\n",
      "                                        \n",
      "\n",
      "\n",
      "\n",
      "TA0001\n",
      "\n",
      "\n",
      "Initial Access\n",
      "\n",
      "Tactics - Enterprise | MITRE ATT&CK®\n",
      "\n",
      "\n",
      "\n",
      "\n",
      "\n",
      "\n",
      "\n",
      "\n",
      "\n",
      "\n",
      "\n",
      "\n",
      "\n",
      "\n",
      "\n",
      "\n",
      "\n",
      "\n",
      "\n",
      "\n",
      "\n",
      "\n",
      "\n",
      "\n",
      "\n",
      "Matrices\n",
      "\n",
      "\n",
      "Enterprise\n",
      "Mobile\n",
      "ICS\n",
      "\n",
      "\n",
      "\n",
      "\n",
      "Tactics\n",
      "\n",
      "\n",
      "Enterprise\n",
      "Mobile\n",
      "ICS\n",
      "\n",
      "\n",
      "\n",
      "\n",
      "Techniques\n",
      "\n",
      "\n",
      "Enterprise\n",
      "Mobile\n",
      "ICS\n",
      "\n",
      "\n",
      "\n",
      "\n",
      "Defenses\n",
      "\n",
      "\n",
      "Data Sources\n",
      "\n",
      "\n",
      "Mitigations\n",
      "\n",
      "\n",
      "Enterprise\n",
      "Mobile\n",
      "ICS\n",
      "\n",
      "\n",
      "Assets\n",
      "\n",
      "\n",
      "\n",
      "\n",
      "CTI\n",
      "\n",
      "\n",
      "Groups\n",
      "Software\n",
      "Campaigns\n",
      "\n",
      "\n",
      "\n",
      "\n",
      "Resources\n",
      "\n",
      "\n",
      "Get Started\n",
      "Learn More about ATT&CK\n",
      "ATT&CK Data & Tools\n",
      "FAQ\n",
      "Engage with ATT&CK\n",
      "Version History\n",
      "Legal & Branding\n",
      "\n",
      "\n",
      "\n",
      "Benefactors\n",
      "\n",
      "\n",
      "\n",
      "Blog \n",
      "        \n",
      "\n",
      "\n",
      "\n",
      "Search \n",
      "\n",
      "\n",
      "\n",
      "\n",
      "\n",
      "\n",
      "\n",
      "\n",
      "\n",
      "\n",
      "\n",
      "\n",
      "                        ATT&CKcon 5.0 returns October 22-23, 2024! Submit to our CFP by Jun 26th at 6pm ET to take part from our McLean, VA stage.\n",
      "                    \n",
      "\n",
      "\n",
      "\n",
      "\n",
      "\n",
      "\n",
      "\n",
      "\n",
      "\n",
      "\n",
      "\n",
      "\n",
      "\n",
      "\n",
      "Home\n",
      "Tactics\n",
      "Enterprise\n",
      "\n",
      "\n",
      "\n",
      "\n",
      "\n",
      "\n",
      "\n",
      "\n",
      "\n",
      "\n",
      " \n",
      "                                        Enterprise tactics\n",
      "\n",
      "Techniques - Enterprise | MITRE ATT&CK®\n",
      "\n",
      "\n",
      "\n",
      "\n",
      "\n",
      "\n",
      "\n",
      "\n",
      "\n",
      "\n",
      "\n",
      "\n",
      "\n",
      "\n",
      "\n",
      "\n",
      "\n",
      "\n",
      "\n",
      "\n",
      "\n",
      "\n",
      "\n",
      "\n",
      "\n",
      "Matrices\n",
      "\n",
      "\n",
      "Enterprise\n",
      "Mobile\n",
      "ICS\n",
      "\n",
      "\n",
      "\n",
      "\n",
      "Tactics\n",
      "\n",
      "\n",
      "Enterprise\n",
      "Mobile\n",
      "ICS\n",
      "\n",
      "\n",
      "\n",
      "\n",
      "Techniques\n",
      "\n",
      "\n",
      "Enterprise\n",
      "Mobile\n",
      "ICS\n",
      "\n",
      "\n",
      "\n",
      "\n",
      "Defenses\n",
      "\n",
      "\n",
      "Data Sources\n",
      "\n",
      "\n",
      "Mitigations\n",
      "\n",
      "\n",
      "Enterprise\n",
      "Mobile\n",
      "ICS\n",
      "\n",
      "\n",
      "Assets\n",
      "\n",
      "\n",
      "\n",
      "\n",
      "CTI\n",
      "\n",
      "\n",
      "Groups\n",
      "Software\n",
      "Campaigns\n",
      "\n",
      "\n",
      "\n",
      "\n",
      "Resources\n",
      "\n",
      "\n",
      "Get Started\n",
      "Learn More about ATT&CK\n",
      "ATT&CK Data & Tools\n",
      "FAQ\n",
      "Engage with ATT&CK\n",
      "Version History\n",
      "Legal & Branding\n",
      "\n",
      "\n",
      "\n",
      "Benefactors\n",
      "\n",
      "\n",
      "\n",
      "Blog \n",
      "        \n",
      "\n",
      "\n",
      "\n",
      "Search \n",
      "\n",
      "\n",
      "\n",
      "\n",
      "\n",
      "\n",
      "\n",
      "\n",
      "\n",
      "\n",
      "\n",
      "\n",
      "                        ATT&CKcon 5.0 returns October 22-23, 2024! Submit to our CFP by Jun 26th at 6pm ET to take part from our McLean, VA stage.\n",
      "                    \n",
      "\n",
      "\n",
      "\n",
      "\n",
      "\n",
      "\n",
      "\n",
      "\n",
      "\n",
      "\n",
      "\n",
      "\n",
      "\n",
      "\n",
      "Home\n",
      "Techniques\n",
      "Enterprise\n",
      "\n",
      "\n",
      "\n",
      "\n",
      "\n",
      "\n",
      "\n",
      "\n",
      "\n",
      "\n",
      " \n",
      "                                            Enterprise Techniques\n",
      "\n",
      "Home\n",
      "Techniques\n",
      "Enterprise\n",
      "\n",
      "\n",
      "\n",
      "\n",
      "\n",
      "\n",
      "\n",
      "\n",
      "\n",
      "\n",
      " \n",
      "                                            Enterprise Techniques\n",
      "                                    \n",
      "\n",
      "                                        Techniques represent 'how' an adversary achieves a tactical goal by performing an action. For example, an adversary may dump credentials to achieve credential access.\n",
      "                                    \n",
      "\n",
      "\n",
      "\n",
      "Techniques: 202\n",
      "\n",
      "\n",
      "Sub-techniques: 435\n",
      "\n",
      "\n",
      "\n",
      "\n",
      "\n",
      "\n",
      "ID\n",
      "Name\n",
      "Description\n",
      "\n",
      "\n",
      "\n",
      "\n",
      "\n",
      " T1548 \n",
      "\n",
      "\n",
      " Abuse Elevation Control Mechanism\u001b[0m\u001b[32;1m\u001b[1;3mHere are the tactics in the MITRE ATT&CK framework along with a one-line description:\n",
      "\n",
      "1. Reconnaissance: Gathering information for future operations.\n",
      "2. Resource Development: Establishing resources to support operations.\n",
      "3. Initial Access: Gaining initial access to a system or network.\n",
      "4. Execution: Running malicious code on a target system.\n",
      "5. Persistence: Maintaining access to a compromised system.\n",
      "6. Privilege Escalation: Gaining higher levels of access on a system.\n",
      "7. Defense Evasion: Avoiding detection by security measures.\n",
      "8. Credential Access: Obtaining and using credentials to gain access to systems.\n",
      "9. Discovery: Gathering information about a target environment.\n",
      "10. Lateral Movement: Moving through a network to reach target systems.\n",
      "11. Collection: Gathering data of interest from target systems.\n",
      "12. Command and Control: Establishing and maintaining communication channels with compromised systems.\n",
      "13. Exfiltration: Stealing data from a target environment.\n",
      "14. Impact: Disrupting or damaging systems or data.\n",
      "\n",
      "Please note that these descriptions are brief and there is more detailed information available for each tactic in the MITRE ATT&CK framework.\u001b[0m\n",
      "\n",
      "\u001b[1m> Finished chain.\u001b[0m\n",
      "Here are the tactics in the MITRE ATT&CK framework along with a one-line description:\n",
      "\n",
      "1. Reconnaissance: Gathering information for future operations.\n",
      "2. Resource Development: Establishing resources to support operations.\n",
      "3. Initial Access: Gaining initial access to a system or network.\n",
      "4. Execution: Running malicious code on a target system.\n",
      "5. Persistence: Maintaining access to a compromised system.\n",
      "6. Privilege Escalation: Gaining higher levels of access on a system.\n",
      "7. Defense Evasion: Avoiding detection by security measures.\n",
      "8. Credential Access: Obtaining and using credentials to gain access to systems.\n",
      "9. Discovery: Gathering information about a target environment.\n",
      "10. Lateral Movement: Moving through a network to reach target systems.\n",
      "11. Collection: Gathering data of interest from target systems.\n",
      "12. Command and Control: Establishing and maintaining communication channels with compromised systems.\n",
      "13. Exfiltration: Stealing data from a target environment.\n",
      "14. Impact: Disrupting or damaging systems or data.\n",
      "\n",
      "Please note that these descriptions are brief and there is more detailed information available for each tactic in the MITRE ATT&CK framework.\n"
     ]
    }
   ],
   "source": [
    "#agent_executor.invoke({\"input\" : \"search on google and give me 3 sentence description in a structured format along with the link to the docs in the bottom: langchain tools\"})\n",
    "response = agent_executor.invoke({\"input\" : \"List of all the tactics in mitreattack framework withone line description\"})\n",
    "\n",
    "#print(response)\n",
    "print(response['output'])"
   ]
  },
  {
   "cell_type": "code",
   "execution_count": 41,
   "metadata": {
    "height": 98
   },
   "outputs": [
    {
     "name": "stdout",
     "output_type": "stream",
     "text": [
      "\n",
      "\n",
      "\u001b[1m> Entering new AgentExecutor chain...\u001b[0m\n",
      "\u001b[32;1m\u001b[1;3m\n",
      "Invoking: `google_search` with `langchain tools`\n",
      "\n",
      "\n",
      "\u001b[0m\u001b[38;5;200m\u001b[1;3mTools are interfaces that an agent, chain, or LLM can use to interact with the world. Mar 28, 2023 ... from langchain import OpenAI, LLMMathChain, SerpAPIWrapper from langchain.agents import initialize_agent, Tool from langchain.chat_models ... Tools · 📄️ Alpha Vantage · 📄️ Apify · 📄️ ArXiv · 📄️ AskNews · 📄️ AWS Lambda · 📄️ Azure Container Apps dynamic sessions · 📄️ Shell (bash) · 📄️ Bearly Code ... May 4, 2023 ... LOAD TOOLS! /home/lothiraldan/project/cometml/langchain/langchain/tools/shell/tool.py:33: UserWarning: The shell tool has no safeguards by ... An exciting use case for LLMs is building natural language interfaces for other \"tools\", whether those are APIs, functions, databases, etc. Apr 11, 2024 ... Intro. Large Language Models (LLMs) can interact with external data sources via tool calling functionality. Tool calling is a powerful technique ... Jun 20, 2023 ... LangChain's tools/agents vs OpenAI's Function Calling. I've played around with OpenAI's Function Calling and I've found it a lot faster and ... With tools, LLMs can search the web, do math, run code, and more. The LangChain library provides a substantial selection of prebuilt tools. However, in many ... Dec 29, 2023 ... Langchain is a collection of one line abstractions over fstrings that mostly only work with openai things. If you try to use other models they ... Output parser with retries for the structured chat agent. agents.tools.InvalidTool. Tool that is run when invalid tool name is encountered by agent.\u001b[0m\u001b[32;1m\u001b[1;3mHere are three sentence descriptions of LangChain tools:\n",
      "\n",
      "1. LangChain tools are interfaces that agents, chains, or LLMs can use to interact with the world, such as APIs, functions, databases, and more.\n",
      "2. With LangChain tools, LLMs can perform tasks like searching the web, doing math, running code, and more.\n",
      "3. The LangChain library provides a wide range of prebuilt tools, allowing LLMs to access external data sources and perform various operations.\u001b[0m\n",
      "\n",
      "\u001b[1m> Finished chain.\u001b[0m\n",
      "Here are three sentence descriptions of LangChain tools:\n",
      "\n",
      "1. LangChain tools are interfaces that agents, chains, or LLMs can use to interact with the world, such as APIs, functions, databases, and more.\n",
      "2. With LangChain tools, LLMs can perform tasks like searching the web, doing math, running code, and more.\n",
      "3. The LangChain library provides a wide range of prebuilt tools, allowing LLMs to access external data sources and perform various operations.\n"
     ]
    }
   ],
   "source": [
    "response = agent_executor.invoke({\"input\" : \"search on google and give me 3 sentence description in a structured format: langchain tools\"})\n",
    "\n",
    "#print(response)\n",
    "print(response['output'])"
   ]
  }
 ],
 "metadata": {
  "kernelspec": {
   "display_name": "Python 3 (ipykernel)",
   "language": "python",
   "name": "python3"
  },
  "language_info": {
   "codemirror_mode": {
    "name": "ipython",
    "version": 3
   },
   "file_extension": ".py",
   "mimetype": "text/x-python",
   "name": "python",
   "nbconvert_exporter": "python",
   "pygments_lexer": "ipython3",
   "version": "3.10.13"
  }
 },
 "nbformat": 4,
 "nbformat_minor": 2
}
